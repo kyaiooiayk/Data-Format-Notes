{
 "cells": [
  {
   "cell_type": "markdown",
   "id": "84b00ec3",
   "metadata": {},
   "source": [
    "# Introduction\n",
    "<hr style = \"border:2px solid black\" ></hr>"
   ]
  },
  {
   "cell_type": "markdown",
   "id": "9179d0b6",
   "metadata": {},
   "source": [
    "<div class=\"alert alert-warning\">\n",
    "<font color=black>\n",
    "\n",
    "**What?** How to read an XML file\n",
    "\n",
    "</font>\n",
    "</div>"
   ]
  },
  {
   "cell_type": "markdown",
   "id": "f386383b",
   "metadata": {},
   "source": [
    "# What is an XML file?\n",
    "<hr style = \"border:2px solid black\" ></hr>"
   ]
  },
  {
   "cell_type": "markdown",
   "id": "725f1e87",
   "metadata": {},
   "source": [
    "<div class=\"alert alert-info\">\n",
    "<font color=black>\n",
    "\n",
    "- **XML** stands for Extensible Markup Language. \n",
    "- It is similar to HTML in its appearance but, XML is used for data presentation, while HTML is used to define what data is being used. \n",
    "- XML is exclusively designed to send and receive data back and forth between clients and servers. \n",
    "\n",
    "</font>\n",
    "</div>"
   ]
  },
  {
   "cell_type": "markdown",
   "id": "d3f3a198",
   "metadata": {},
   "source": [
    "# xml.etree.ElementTree Module\n",
    "<hr style = \"border:2px solid black\" ></hr>"
   ]
  },
  {
   "cell_type": "markdown",
   "id": "77337ee8",
   "metadata": {},
   "source": [
    "<div class=\"alert alert-info\">\n",
    "<font color=black>\n",
    "\n",
    "- This module helps us format XML data in a tree structure which is the most natural representation of hierarchical data. \n",
    "- Element type allows storage of hierarchical data structures in memory and has the following properties:\n",
    "\n",
    "    - **Tag**: is a string representing the type of data being stored\n",
    "    - **Attributes** consists of a number of attributes stored as dictionaries\n",
    "    - **Text String** is a text string having information that needs to be displayed\n",
    "    - **Tail String** can also have tail strings if necessary\n",
    "    - **Child Elements** consists of a number of  child elements stored as sequences\n",
    "    \n",
    "</font>\n",
    "</div>"
   ]
  },
  {
   "cell_type": "markdown",
   "id": "e6e321af",
   "metadata": {},
   "source": [
    "# Import modules\n",
    "<hr style = \"border:2px solid black\" ></hr>"
   ]
  },
  {
   "cell_type": "code",
   "execution_count": 2,
   "id": "beadbfd4",
   "metadata": {
    "ExecuteTime": {
     "end_time": "2022-03-22T06:25:02.944436Z",
     "start_time": "2022-03-22T06:25:02.941960Z"
    }
   },
   "outputs": [],
   "source": [
    "import xml.etree.ElementTree as ET"
   ]
  },
  {
   "cell_type": "markdown",
   "id": "b37b5067",
   "metadata": {},
   "source": [
    "# Parsing the XML file\n",
    "<hr style = \"border:2px solid black\" ></hr>"
   ]
  },
  {
   "cell_type": "markdown",
   "id": "087b5006",
   "metadata": {},
   "source": [
    "<div class=\"alert alert-info\">\n",
    "<font color=black>\n",
    "\n",
    "- There are two ways to parse the file using `ElementTree` module. \n",
    "- The first is by using the `parse()` function and the second is `fromstring()` function. \n",
    "- The `parse()` function parses XML document which is supplied as a file whereas, fromstring parses XML when supplied as a string i.e within triple quotes.\n",
    "\n",
    "</font>\n",
    "</div>"
   ]
  },
  {
   "cell_type": "code",
   "execution_count": 8,
   "id": "948f24d6",
   "metadata": {
    "ExecuteTime": {
     "end_time": "2022-03-22T06:25:20.878557Z",
     "start_time": "2022-03-22T06:25:20.875702Z"
    }
   },
   "outputs": [],
   "source": [
    "tree = ET.parse('./example.xml')\n",
    "root = tree.getroot()"
   ]
  },
  {
   "cell_type": "markdown",
   "id": "3500a422",
   "metadata": {},
   "source": [
    "<div class=\"alert alert-info\">\n",
    "<font color=black>\n",
    "\n",
    "- The above output indicates that the **root element** in our XML document is ‘metadata’.\n",
    "\n",
    "</font>\n",
    "</div>"
   ]
  },
  {
   "cell_type": "code",
   "execution_count": 9,
   "id": "ebe74d16",
   "metadata": {
    "ExecuteTime": {
     "end_time": "2022-03-22T06:25:21.598113Z",
     "start_time": "2022-03-22T06:25:21.594829Z"
    }
   },
   "outputs": [
    {
     "data": {
      "text/plain": [
       "<Element 'metadata' at 0x7f8448334270>"
      ]
     },
     "execution_count": 9,
     "metadata": {},
     "output_type": "execute_result"
    }
   ],
   "source": [
    "root"
   ]
  },
  {
   "cell_type": "markdown",
   "id": "9f92a6ff",
   "metadata": {},
   "source": [
    "<div class=\"alert alert-info\">\n",
    "<font color=black>\n",
    "\n",
    "- You can also retrieve the root tag by using the ‘tag’ object as follows.\n",
    "\n",
    "</font>\n",
    "</div>"
   ]
  },
  {
   "cell_type": "code",
   "execution_count": 10,
   "id": "1fb8be6e",
   "metadata": {
    "ExecuteTime": {
     "end_time": "2022-03-22T06:25:26.727750Z",
     "start_time": "2022-03-22T06:25:26.724250Z"
    }
   },
   "outputs": [
    {
     "data": {
      "text/plain": [
       "'metadata'"
      ]
     },
     "execution_count": 10,
     "metadata": {},
     "output_type": "execute_result"
    }
   ],
   "source": [
    "root.tag"
   ]
  },
  {
   "cell_type": "markdown",
   "id": "87d18b50",
   "metadata": {},
   "source": [
    "<div class=\"alert alert-info\">\n",
    "<font color=black>\n",
    "\n",
    "- `tags` can have dictionary attributes as well. \n",
    "- To check if the root tag has any attributes you can use the ‘attrib’ method.\n",
    "- As you can see, the output is an empty dictionary because our root tag has no attributes.\n",
    "\n",
    "</font>\n",
    "</div>"
   ]
  },
  {
   "cell_type": "code",
   "execution_count": 11,
   "id": "2b918417",
   "metadata": {
    "ExecuteTime": {
     "end_time": "2022-03-22T06:25:27.447104Z",
     "start_time": "2022-03-22T06:25:27.443789Z"
    }
   },
   "outputs": [
    {
     "data": {
      "text/plain": [
       "{}"
      ]
     },
     "execution_count": 11,
     "metadata": {},
     "output_type": "execute_result"
    }
   ],
   "source": [
    "root.attrib"
   ]
  },
  {
   "cell_type": "markdown",
   "id": "d7dd6171",
   "metadata": {},
   "source": [
    "# References\n",
    "<hr style = \"border:2px solid black\" ></hr>"
   ]
  },
  {
   "cell_type": "markdown",
   "id": "08841ecb",
   "metadata": {},
   "source": [
    "<div class=\"alert alert-warning\">\n",
    "<font color=black>\n",
    "\n",
    "- [How to Parse and Modify XML in Python?](https://www.edureka.co/blog/python-xml-parser-tutorial/)\n",
    "\n",
    "</font>\n",
    "</div>"
   ]
  },
  {
   "cell_type": "code",
   "execution_count": null,
   "id": "a0e1e631",
   "metadata": {},
   "outputs": [],
   "source": []
  }
 ],
 "metadata": {
  "kernelspec": {
   "display_name": "trainingAI",
   "language": "python",
   "name": "trainingai"
  },
  "language_info": {
   "codemirror_mode": {
    "name": "ipython",
    "version": 3
   },
   "file_extension": ".py",
   "mimetype": "text/x-python",
   "name": "python",
   "nbconvert_exporter": "python",
   "pygments_lexer": "ipython3",
   "version": "3.9.7"
  },
  "toc": {
   "base_numbering": 1,
   "nav_menu": {},
   "number_sections": true,
   "sideBar": true,
   "skip_h1_title": false,
   "title_cell": "Table of Contents",
   "title_sidebar": "Contents",
   "toc_cell": false,
   "toc_position": {
    "height": "calc(100% - 180px)",
    "left": "10px",
    "top": "150px",
    "width": "209.35px"
   },
   "toc_section_display": true,
   "toc_window_display": true
  },
  "varInspector": {
   "cols": {
    "lenName": 16,
    "lenType": 16,
    "lenVar": 40
   },
   "kernels_config": {
    "python": {
     "delete_cmd_postfix": "",
     "delete_cmd_prefix": "del ",
     "library": "var_list.py",
     "varRefreshCmd": "print(var_dic_list())"
    },
    "r": {
     "delete_cmd_postfix": ") ",
     "delete_cmd_prefix": "rm(",
     "library": "var_list.r",
     "varRefreshCmd": "cat(var_dic_list()) "
    }
   },
   "types_to_exclude": [
    "module",
    "function",
    "builtin_function_or_method",
    "instance",
    "_Feature"
   ],
   "window_display": false
  }
 },
 "nbformat": 4,
 "nbformat_minor": 5
}
