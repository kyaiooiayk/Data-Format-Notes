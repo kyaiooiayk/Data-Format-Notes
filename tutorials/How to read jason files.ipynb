{
 "cells": [
  {
   "cell_type": "markdown",
   "id": "dadebfe1",
   "metadata": {
    "toc": true
   },
   "source": [
    "<h1>Table of Contents<span class=\"tocSkip\"></span></h1>\n",
    "<div class=\"toc\"><ul class=\"toc-item\"><li><span><a href=\"#Introduction\" data-toc-modified-id=\"Introduction-1\"><span class=\"toc-item-num\">1&nbsp;&nbsp;</span>Introduction</a></span></li><li><span><a href=\"#Difference-btw-jason-and-python-dictionary\" data-toc-modified-id=\"Difference-btw-jason-and-python-dictionary-2\"><span class=\"toc-item-num\">2&nbsp;&nbsp;</span>Difference btw jason and python dictionary</a></span></li><li><span><a href=\"#Imports\" data-toc-modified-id=\"Imports-3\"><span class=\"toc-item-num\">3&nbsp;&nbsp;</span>Imports</a></span></li><li><span><a href=\"#Read-in-file\" data-toc-modified-id=\"Read-in-file-4\"><span class=\"toc-item-num\">4&nbsp;&nbsp;</span>Read-in file</a></span><ul class=\"toc-item\"><li><span><a href=\"#Native-python-reader\" data-toc-modified-id=\"Native-python-reader-4.1\"><span class=\"toc-item-num\">4.1&nbsp;&nbsp;</span>Native python reader</a></span></li><li><span><a href=\"#With-pandas\" data-toc-modified-id=\"With-pandas-4.2\"><span class=\"toc-item-num\">4.2&nbsp;&nbsp;</span>With pandas</a></span></li></ul></li><li><span><a href=\"#References\" data-toc-modified-id=\"References-5\"><span class=\"toc-item-num\">5&nbsp;&nbsp;</span>References</a></span></li></ul></div>"
   ]
  },
  {
   "cell_type": "markdown",
   "id": "84b00ec3",
   "metadata": {},
   "source": [
    "# Introduction\n",
    "<hr style = \"border:2px solid black\" ></hr>"
   ]
  },
  {
   "cell_type": "markdown",
   "id": "a4ed8b64",
   "metadata": {},
   "source": [
    "<div class=\"alert alert-warning\">\n",
    "<font color=black>\n",
    "\n",
    "**What?** How to read an JASON file\n",
    "\n",
    "</font>\n",
    "</div>"
   ]
  },
  {
   "cell_type": "markdown",
   "id": "3bc0aa21",
   "metadata": {},
   "source": [
    "# Difference btw jason and python dictionary\n",
    "<hr style = \"border:2px solid black\" ></hr>"
   ]
  },
  {
   "cell_type": "markdown",
   "id": "3261120b",
   "metadata": {},
   "source": [
    "<div class=\"alert alert-info\">\n",
    "<font color=black>\n",
    "\n",
    "- JSON is a file format that allows the transmission of data between systems or subsystems. Although JSON was originally invented for use by Javascript (JSON = JavaScript Object Notation), the JSON file format is language agnostic.\n",
    "\n",
    "- JSON files support a number of data types which includes a dictionary - that is a data type that supports a set of key, value pairs. Since the JSON file exists as a text file, The ability to find a key in the JSON dictionary must have a time complexity of O(n), since the only option is to do a linear search.\n",
    "\n",
    "- Using the Python language, The JSON dictionary format can be internalized in memory as a Python dictionary, and now finding a key has a time complexity of O(1) - since the Python dictionary uses hash values to make searches efficient.\n",
    "\n",
    "- One way to think about this is that a Python dictionary is a data structure in memory which can store key, value pairs, and the JSON dictionary is a method to transfer those Python dictionaries to other subsystems with a few conditions :\n",
    "    - JSON only supports strings as keys - Python supports any hashable objects as keys (including tuples, frozensets, custom classes etc)\n",
    "    - JSON values can only be of a valid JSON type (list, dictionary, string, integer, float, boolean, Null) - Python values can be anything that can be constructed in Python.\n",
    "\n",
    "</font>\n",
    "</div>"
   ]
  },
  {
   "cell_type": "markdown",
   "id": "4c4859b1",
   "metadata": {},
   "source": [
    "# Imports\n",
    "<hr style = \"border:2px solid black\" ></hr>"
   ]
  },
  {
   "cell_type": "code",
   "execution_count": 11,
   "id": "616638ca",
   "metadata": {
    "ExecuteTime": {
     "end_time": "2022-09-09T08:23:10.691151Z",
     "start_time": "2022-09-09T08:23:10.188272Z"
    }
   },
   "outputs": [],
   "source": [
    "import json\n",
    "import pandas as pd"
   ]
  },
  {
   "cell_type": "markdown",
   "id": "5f8a9d10",
   "metadata": {},
   "source": [
    "# Read-in file\n",
    "<hr style = \"border:2px solid black\" ></hr>"
   ]
  },
  {
   "cell_type": "markdown",
   "id": "5636ab2e",
   "metadata": {},
   "source": [
    "## Native python reader"
   ]
  },
  {
   "cell_type": "markdown",
   "id": "54d027b2",
   "metadata": {},
   "source": [
    "<div class=\"alert alert-info\">\n",
    "<font color=black>\n",
    "\n",
    "- Keep in mind that python comes with a native in-built `json` file reader.\n",
    "- So there is no `pip install json`\n",
    "\n",
    "</font>\n",
    "</div>"
   ]
  },
  {
   "cell_type": "code",
   "execution_count": 1,
   "id": "6159fab7",
   "metadata": {
    "ExecuteTime": {
     "end_time": "2022-09-09T08:22:40.175628Z",
     "start_time": "2022-09-09T08:22:40.023250Z"
    }
   },
   "outputs": [
    {
     "name": "stdout",
     "output_type": "stream",
     "text": [
      "\u001b[34mGitHub_MD_rendering\u001b[m\u001b[m           How to read xml files.ipynb\r\n",
      "How to read csv files.ipynb   example.json\r\n",
      "How to read jason files.ipynb example.xml\r\n"
     ]
    }
   ],
   "source": [
    "!ls"
   ]
  },
  {
   "cell_type": "code",
   "execution_count": 2,
   "id": "2b918417",
   "metadata": {
    "ExecuteTime": {
     "end_time": "2022-09-09T08:22:40.183327Z",
     "start_time": "2022-09-09T08:22:40.178852Z"
    }
   },
   "outputs": [],
   "source": [
    "with open(\"./data/example.json\") as json_file:\n",
    "    json_data = json.load(json_file)"
   ]
  },
  {
   "cell_type": "code",
   "execution_count": 3,
   "id": "12185c69",
   "metadata": {
    "ExecuteTime": {
     "end_time": "2022-09-09T08:22:40.197584Z",
     "start_time": "2022-09-09T08:22:40.186795Z"
    }
   },
   "outputs": [
    {
     "data": {
      "text/plain": [
       "{'a': [1, 3, 'asdf', True], 'b': {'Hello': 'world'}}"
      ]
     },
     "execution_count": 3,
     "metadata": {},
     "output_type": "execute_result"
    }
   ],
   "source": [
    "json_data"
   ]
  },
  {
   "cell_type": "code",
   "execution_count": 4,
   "id": "6e45a538",
   "metadata": {
    "ExecuteTime": {
     "end_time": "2022-09-09T08:22:40.203030Z",
     "start_time": "2022-09-09T08:22:40.199407Z"
    }
   },
   "outputs": [
    {
     "data": {
      "text/plain": [
       "dict"
      ]
     },
     "execution_count": 4,
     "metadata": {},
     "output_type": "execute_result"
    }
   ],
   "source": [
    "type(json_data)"
   ]
  },
  {
   "cell_type": "code",
   "execution_count": 5,
   "id": "c843a6da",
   "metadata": {
    "ExecuteTime": {
     "end_time": "2022-09-09T08:22:40.208956Z",
     "start_time": "2022-09-09T08:22:40.205194Z"
    }
   },
   "outputs": [
    {
     "data": {
      "text/plain": [
       "[1, 3, 'asdf', True]"
      ]
     },
     "execution_count": 5,
     "metadata": {},
     "output_type": "execute_result"
    }
   ],
   "source": [
    "json_data[\"a\"]"
   ]
  },
  {
   "cell_type": "code",
   "execution_count": 6,
   "id": "c6c43332",
   "metadata": {
    "ExecuteTime": {
     "end_time": "2022-09-09T08:22:40.215572Z",
     "start_time": "2022-09-09T08:22:40.210938Z"
    },
    "scrolled": true
   },
   "outputs": [
    {
     "data": {
      "text/plain": [
       "['__class__',\n",
       " '__class_getitem__',\n",
       " '__contains__',\n",
       " '__delattr__',\n",
       " '__delitem__',\n",
       " '__dir__',\n",
       " '__doc__',\n",
       " '__eq__',\n",
       " '__format__',\n",
       " '__ge__',\n",
       " '__getattribute__',\n",
       " '__getitem__',\n",
       " '__gt__',\n",
       " '__hash__',\n",
       " '__init__',\n",
       " '__init_subclass__',\n",
       " '__ior__',\n",
       " '__iter__',\n",
       " '__le__',\n",
       " '__len__',\n",
       " '__lt__',\n",
       " '__ne__',\n",
       " '__new__',\n",
       " '__or__',\n",
       " '__reduce__',\n",
       " '__reduce_ex__',\n",
       " '__repr__',\n",
       " '__reversed__',\n",
       " '__ror__',\n",
       " '__setattr__',\n",
       " '__setitem__',\n",
       " '__sizeof__',\n",
       " '__str__',\n",
       " '__subclasshook__',\n",
       " 'clear',\n",
       " 'copy',\n",
       " 'fromkeys',\n",
       " 'get',\n",
       " 'items',\n",
       " 'keys',\n",
       " 'pop',\n",
       " 'popitem',\n",
       " 'setdefault',\n",
       " 'update',\n",
       " 'values']"
      ]
     },
     "execution_count": 6,
     "metadata": {},
     "output_type": "execute_result"
    }
   ],
   "source": [
    "dir(json_data)"
   ]
  },
  {
   "cell_type": "code",
   "execution_count": 7,
   "id": "ac3a0515",
   "metadata": {
    "ExecuteTime": {
     "end_time": "2022-09-09T08:22:40.222378Z",
     "start_time": "2022-09-09T08:22:40.218140Z"
    }
   },
   "outputs": [
    {
     "data": {
      "text/plain": [
       "dict_values([[1, 3, 'asdf', True], {'Hello': 'world'}])"
      ]
     },
     "execution_count": 7,
     "metadata": {},
     "output_type": "execute_result"
    }
   ],
   "source": [
    "json_data.values()"
   ]
  },
  {
   "cell_type": "code",
   "execution_count": 8,
   "id": "5a9cc0e8",
   "metadata": {
    "ExecuteTime": {
     "end_time": "2022-09-09T08:22:40.228053Z",
     "start_time": "2022-09-09T08:22:40.224410Z"
    }
   },
   "outputs": [
    {
     "data": {
      "text/plain": [
       "dict_items([('a', [1, 3, 'asdf', True]), ('b', {'Hello': 'world'})])"
      ]
     },
     "execution_count": 8,
     "metadata": {},
     "output_type": "execute_result"
    }
   ],
   "source": [
    "json_data.items()"
   ]
  },
  {
   "cell_type": "code",
   "execution_count": 9,
   "id": "a037a819",
   "metadata": {
    "ExecuteTime": {
     "end_time": "2022-09-09T08:22:40.238249Z",
     "start_time": "2022-09-09T08:22:40.232849Z"
    },
    "scrolled": true
   },
   "outputs": [
    {
     "data": {
      "text/plain": [
       "['JSONDecodeError',\n",
       " 'JSONDecoder',\n",
       " 'JSONEncoder',\n",
       " '__all__',\n",
       " '__author__',\n",
       " '__builtins__',\n",
       " '__cached__',\n",
       " '__doc__',\n",
       " '__file__',\n",
       " '__loader__',\n",
       " '__name__',\n",
       " '__package__',\n",
       " '__path__',\n",
       " '__spec__',\n",
       " '__version__',\n",
       " '_default_decoder',\n",
       " '_default_encoder',\n",
       " 'codecs',\n",
       " 'decoder',\n",
       " 'detect_encoding',\n",
       " 'dump',\n",
       " 'dumps',\n",
       " 'encoder',\n",
       " 'load',\n",
       " 'loads',\n",
       " 'scanner']"
      ]
     },
     "execution_count": 9,
     "metadata": {},
     "output_type": "execute_result"
    }
   ],
   "source": [
    "dir(json)"
   ]
  },
  {
   "cell_type": "markdown",
   "id": "6dc7b28d",
   "metadata": {},
   "source": [
    "## With pandas"
   ]
  },
  {
   "cell_type": "markdown",
   "id": "95657a82",
   "metadata": {
    "ExecuteTime": {
     "end_time": "2022-09-09T08:22:30.562404Z",
     "start_time": "2022-09-09T08:22:30.557648Z"
    }
   },
   "source": [
    "<div class=\"alert alert-info\">\n",
    "<font color=black>\n",
    "\n",
    "- Pandas is particular helpful when it comes to udnerstand the internal structure of a `.json` file.\n",
    "- This particularly important when you have nested dictionaries.\n",
    "\n",
    "</font>\n",
    "</div>"
   ]
  },
  {
   "cell_type": "code",
   "execution_count": 14,
   "id": "4d02cf8a",
   "metadata": {
    "ExecuteTime": {
     "end_time": "2022-09-09T08:25:22.348850Z",
     "start_time": "2022-09-09T08:25:22.219453Z"
    }
   },
   "outputs": [
    {
     "name": "stdout",
     "output_type": "stream",
     "text": [
      "\u001b[34mGitHub_MD_rendering\u001b[m\u001b[m           example.json\r\n",
      "How to read csv files.ipynb   example.xml\r\n",
      "How to read jason files.ipynb example1.json\r\n",
      "How to read xml files.ipynb\r\n"
     ]
    }
   ],
   "source": [
    "!ls"
   ]
  },
  {
   "cell_type": "code",
   "execution_count": 16,
   "id": "c48584a8",
   "metadata": {
    "ExecuteTime": {
     "end_time": "2022-09-09T08:25:45.815615Z",
     "start_time": "2022-09-09T08:25:45.803933Z"
    }
   },
   "outputs": [],
   "source": [
    "df = pd.read_json(\"./data/example1.json\")"
   ]
  },
  {
   "cell_type": "code",
   "execution_count": 17,
   "id": "1214733b",
   "metadata": {
    "ExecuteTime": {
     "end_time": "2022-09-09T08:25:49.641890Z",
     "start_time": "2022-09-09T08:25:49.633623Z"
    }
   },
   "outputs": [
    {
     "data": {
      "text/html": [
       "<div>\n",
       "<style scoped>\n",
       "    .dataframe tbody tr th:only-of-type {\n",
       "        vertical-align: middle;\n",
       "    }\n",
       "\n",
       "    .dataframe tbody tr th {\n",
       "        vertical-align: top;\n",
       "    }\n",
       "\n",
       "    .dataframe thead th {\n",
       "        text-align: right;\n",
       "    }\n",
       "</style>\n",
       "<table border=\"1\" class=\"dataframe\">\n",
       "  <thead>\n",
       "    <tr style=\"text-align: right;\">\n",
       "      <th></th>\n",
       "      <th>Courses</th>\n",
       "      <th>Fee</th>\n",
       "      <th>Duration</th>\n",
       "    </tr>\n",
       "  </thead>\n",
       "  <tbody>\n",
       "    <tr>\n",
       "      <th>0</th>\n",
       "      <td>Spark</td>\n",
       "      <td>25000</td>\n",
       "      <td>50 Days</td>\n",
       "    </tr>\n",
       "    <tr>\n",
       "      <th>1</th>\n",
       "      <td>Pandas</td>\n",
       "      <td>20000</td>\n",
       "      <td>35 Days</td>\n",
       "    </tr>\n",
       "    <tr>\n",
       "      <th>2</th>\n",
       "      <td>Java</td>\n",
       "      <td>15000</td>\n",
       "      <td></td>\n",
       "    </tr>\n",
       "  </tbody>\n",
       "</table>\n",
       "</div>"
      ],
      "text/plain": [
       "  Courses    Fee Duration\n",
       "0   Spark  25000  50 Days\n",
       "1  Pandas  20000  35 Days\n",
       "2    Java  15000         "
      ]
     },
     "execution_count": 17,
     "metadata": {},
     "output_type": "execute_result"
    }
   ],
   "source": [
    "df"
   ]
  },
  {
   "cell_type": "markdown",
   "id": "d7dd6171",
   "metadata": {},
   "source": [
    "# References\n",
    "<hr style = \"border:2px solid black\" ></hr>"
   ]
  },
  {
   "cell_type": "markdown",
   "id": "3a9c1a6d",
   "metadata": {},
   "source": [
    "<div class=\"alert alert-warning\">\n",
    "<font color=black>\n",
    "\n",
    "- [Difference btw jason and python dictionary](https://www.quora.com/What-is-the-difference-between-JSON-and-a-dictionary)\n",
    "- [How to read a `json` file](https://stackoverflow.com/questions/20199126/reading-json-from-a-file)\n",
    "\n",
    "</font>\n",
    "</div>"
   ]
  },
  {
   "cell_type": "code",
   "execution_count": null,
   "id": "31ce33b1",
   "metadata": {},
   "outputs": [],
   "source": []
  }
 ],
 "metadata": {
  "kernelspec": {
   "display_name": "trainingAI",
   "language": "python",
   "name": "trainingai"
  },
  "language_info": {
   "codemirror_mode": {
    "name": "ipython",
    "version": 3
   },
   "file_extension": ".py",
   "mimetype": "text/x-python",
   "name": "python",
   "nbconvert_exporter": "python",
   "pygments_lexer": "ipython3",
   "version": "3.9.7"
  },
  "toc": {
   "base_numbering": 1,
   "nav_menu": {},
   "number_sections": true,
   "sideBar": true,
   "skip_h1_title": false,
   "title_cell": "Table of Contents",
   "title_sidebar": "Contents",
   "toc_cell": true,
   "toc_position": {
    "height": "calc(100% - 180px)",
    "left": "10px",
    "top": "150px",
    "width": "209.35px"
   },
   "toc_section_display": true,
   "toc_window_display": true
  },
  "varInspector": {
   "cols": {
    "lenName": 16,
    "lenType": 16,
    "lenVar": 40
   },
   "kernels_config": {
    "python": {
     "delete_cmd_postfix": "",
     "delete_cmd_prefix": "del ",
     "library": "var_list.py",
     "varRefreshCmd": "print(var_dic_list())"
    },
    "r": {
     "delete_cmd_postfix": ") ",
     "delete_cmd_prefix": "rm(",
     "library": "var_list.r",
     "varRefreshCmd": "cat(var_dic_list()) "
    }
   },
   "types_to_exclude": [
    "module",
    "function",
    "builtin_function_or_method",
    "instance",
    "_Feature"
   ],
   "window_display": false
  }
 },
 "nbformat": 4,
 "nbformat_minor": 5
}
